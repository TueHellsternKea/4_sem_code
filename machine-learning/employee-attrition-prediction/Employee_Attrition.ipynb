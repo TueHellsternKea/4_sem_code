{
 "cells": [
  {
   "cell_type": "markdown",
   "id": "5f2962c5-2e3c-4744-908d-73fc56a562e9",
   "metadata": {},
   "source": [
    "# Employee Attrition\n",
    "Employee attrition refers to an employees’ voluntary or involuntary departure from an organization. The cost of employee attrition can be huge since replacing human resources with desired skill sets in a limited time is a difficult and costly task.\n",
    "\n",
    "Knowing in advance the likelihood that employees are going to leave an organization can help organizations make an effort to boost employee retention and proactively hire replacements in time.\n",
    "\n",
    "Machine learning systems have been developed to flag potential employee attrition, as we’ll demonstrate in this tutorial.\n",
    "\n",
    "This tutorial will walk you through how to develop a machine learning employee attrition prediction model with the Python [scikit-learn library](https://scikit-learn.org/stable/)."
   ]
  },
  {
   "cell_type": "code",
   "execution_count": null,
   "id": "af3d4d0a-c0a8-46f4-939a-21b2ea36445b",
   "metadata": {},
   "outputs": [],
   "source": [
    "# Imports\n",
    "import pandas as pd\n",
    "import numpy as np\n",
    "import matplotlib.pyplot as plt"
   ]
  },
  {
   "cell_type": "markdown",
   "id": "4def72bc-89aa-479b-9773-80fe38fbc775",
   "metadata": {},
   "source": [
    "# Dataset\n",
    "We will use the IBM HR Analytics Employee Attrition Dataset from kaggle to train our machine learning model.\n",
    "\n",
    "[www.kaggle.com/datasets/pavansubhasht/ibm-hr-analytics-attrition-dataset](https://www.kaggle.com/datasets/pavansubhasht/ibm-hr-analytics-attrition-dataset)\n",
    "\n",
    "![](./ibm.jpg)"
   ]
  },
  {
   "cell_type": "code",
   "execution_count": 17,
   "id": "6f77a1c9-d6b9-4238-82a8-773ae323ea05",
   "metadata": {},
   "outputs": [
    {
     "name": "stdout",
     "output_type": "stream",
     "text": [
      "Dataset rows and columns: (1470, 35)\n"
     ]
    },
    {
     "data": {
      "text/html": [
       "<div><div id=e02ad52e-1992-4ed7-8ba2-df348b64a5d1 style=\"display:none; background-color:#9D6CFF; color:white; width:200px; height:30px; padding-left:5px; border-radius:4px; flex-direction:row; justify-content:space-around; align-items:center;\" onmouseover=\"this.style.backgroundColor='#BA9BF8'\" onmouseout=\"this.style.backgroundColor='#9D6CFF'\" onclick=\"window.commands?.execute('create-mitosheet-from-dataframe-output');\">See Full Dataframe in Mito</div> <script> if (window.commands.hasCommand('create-mitosheet-from-dataframe-output')) document.getElementById('e02ad52e-1992-4ed7-8ba2-df348b64a5d1').style.display = 'flex' </script> <table border=\"1\" class=\"dataframe\">\n",
       "  <thead>\n",
       "    <tr style=\"text-align: right;\">\n",
       "      <th></th>\n",
       "      <th>Age</th>\n",
       "      <th>Attrition</th>\n",
       "      <th>BusinessTravel</th>\n",
       "      <th>DailyRate</th>\n",
       "      <th>Department</th>\n",
       "      <th>DistanceFromHome</th>\n",
       "      <th>Education</th>\n",
       "      <th>EducationField</th>\n",
       "      <th>EmployeeCount</th>\n",
       "      <th>EmployeeNumber</th>\n",
       "      <th>...</th>\n",
       "      <th>RelationshipSatisfaction</th>\n",
       "      <th>StandardHours</th>\n",
       "      <th>StockOptionLevel</th>\n",
       "      <th>TotalWorkingYears</th>\n",
       "      <th>TrainingTimesLastYear</th>\n",
       "      <th>WorkLifeBalance</th>\n",
       "      <th>YearsAtCompany</th>\n",
       "      <th>YearsInCurrentRole</th>\n",
       "      <th>YearsSinceLastPromotion</th>\n",
       "      <th>YearsWithCurrManager</th>\n",
       "    </tr>\n",
       "  </thead>\n",
       "  <tbody>\n",
       "    <tr>\n",
       "      <th>0</th>\n",
       "      <td>41</td>\n",
       "      <td>Yes</td>\n",
       "      <td>Travel_Rarely</td>\n",
       "      <td>1102</td>\n",
       "      <td>Sales</td>\n",
       "      <td>1</td>\n",
       "      <td>2</td>\n",
       "      <td>Life Sciences</td>\n",
       "      <td>1</td>\n",
       "      <td>1</td>\n",
       "      <td>...</td>\n",
       "      <td>1</td>\n",
       "      <td>80</td>\n",
       "      <td>0</td>\n",
       "      <td>8</td>\n",
       "      <td>0</td>\n",
       "      <td>1</td>\n",
       "      <td>6</td>\n",
       "      <td>4</td>\n",
       "      <td>0</td>\n",
       "      <td>5</td>\n",
       "    </tr>\n",
       "    <tr>\n",
       "      <th>1</th>\n",
       "      <td>49</td>\n",
       "      <td>No</td>\n",
       "      <td>Travel_Frequently</td>\n",
       "      <td>279</td>\n",
       "      <td>Research &amp; Development</td>\n",
       "      <td>8</td>\n",
       "      <td>1</td>\n",
       "      <td>Life Sciences</td>\n",
       "      <td>1</td>\n",
       "      <td>2</td>\n",
       "      <td>...</td>\n",
       "      <td>4</td>\n",
       "      <td>80</td>\n",
       "      <td>1</td>\n",
       "      <td>10</td>\n",
       "      <td>3</td>\n",
       "      <td>3</td>\n",
       "      <td>10</td>\n",
       "      <td>7</td>\n",
       "      <td>1</td>\n",
       "      <td>7</td>\n",
       "    </tr>\n",
       "    <tr>\n",
       "      <th>2</th>\n",
       "      <td>37</td>\n",
       "      <td>Yes</td>\n",
       "      <td>Travel_Rarely</td>\n",
       "      <td>1373</td>\n",
       "      <td>Research &amp; Development</td>\n",
       "      <td>2</td>\n",
       "      <td>2</td>\n",
       "      <td>Other</td>\n",
       "      <td>1</td>\n",
       "      <td>4</td>\n",
       "      <td>...</td>\n",
       "      <td>2</td>\n",
       "      <td>80</td>\n",
       "      <td>0</td>\n",
       "      <td>7</td>\n",
       "      <td>3</td>\n",
       "      <td>3</td>\n",
       "      <td>0</td>\n",
       "      <td>0</td>\n",
       "      <td>0</td>\n",
       "      <td>0</td>\n",
       "    </tr>\n",
       "    <tr>\n",
       "      <th>3</th>\n",
       "      <td>33</td>\n",
       "      <td>No</td>\n",
       "      <td>Travel_Frequently</td>\n",
       "      <td>1392</td>\n",
       "      <td>Research &amp; Development</td>\n",
       "      <td>3</td>\n",
       "      <td>4</td>\n",
       "      <td>Life Sciences</td>\n",
       "      <td>1</td>\n",
       "      <td>5</td>\n",
       "      <td>...</td>\n",
       "      <td>3</td>\n",
       "      <td>80</td>\n",
       "      <td>0</td>\n",
       "      <td>8</td>\n",
       "      <td>3</td>\n",
       "      <td>3</td>\n",
       "      <td>8</td>\n",
       "      <td>7</td>\n",
       "      <td>3</td>\n",
       "      <td>0</td>\n",
       "    </tr>\n",
       "    <tr>\n",
       "      <th>4</th>\n",
       "      <td>27</td>\n",
       "      <td>No</td>\n",
       "      <td>Travel_Rarely</td>\n",
       "      <td>591</td>\n",
       "      <td>Research &amp; Development</td>\n",
       "      <td>2</td>\n",
       "      <td>1</td>\n",
       "      <td>Medical</td>\n",
       "      <td>1</td>\n",
       "      <td>7</td>\n",
       "      <td>...</td>\n",
       "      <td>4</td>\n",
       "      <td>80</td>\n",
       "      <td>1</td>\n",
       "      <td>6</td>\n",
       "      <td>3</td>\n",
       "      <td>3</td>\n",
       "      <td>2</td>\n",
       "      <td>2</td>\n",
       "      <td>2</td>\n",
       "      <td>2</td>\n",
       "    </tr>\n",
       "  </tbody>\n",
       "</table></div>"
      ],
      "text/plain": [
       "   Age Attrition     BusinessTravel  DailyRate              Department  \\\n",
       "0   41       Yes      Travel_Rarely       1102                   Sales   \n",
       "1   49        No  Travel_Frequently        279  Research & Development   \n",
       "2   37       Yes      Travel_Rarely       1373  Research & Development   \n",
       "3   33        No  Travel_Frequently       1392  Research & Development   \n",
       "4   27        No      Travel_Rarely        591  Research & Development   \n",
       "\n",
       "   DistanceFromHome  Education EducationField  EmployeeCount  EmployeeNumber  \\\n",
       "0                 1          2  Life Sciences              1               1   \n",
       "1                 8          1  Life Sciences              1               2   \n",
       "2                 2          2          Other              1               4   \n",
       "3                 3          4  Life Sciences              1               5   \n",
       "4                 2          1        Medical              1               7   \n",
       "\n",
       "   ...  RelationshipSatisfaction StandardHours  StockOptionLevel  \\\n",
       "0  ...                         1            80                 0   \n",
       "1  ...                         4            80                 1   \n",
       "2  ...                         2            80                 0   \n",
       "3  ...                         3            80                 0   \n",
       "4  ...                         4            80                 1   \n",
       "\n",
       "   TotalWorkingYears  TrainingTimesLastYear WorkLifeBalance  YearsAtCompany  \\\n",
       "0                  8                      0               1               6   \n",
       "1                 10                      3               3              10   \n",
       "2                  7                      3               3               0   \n",
       "3                  8                      3               3               8   \n",
       "4                  6                      3               3               2   \n",
       "\n",
       "  YearsInCurrentRole  YearsSinceLastPromotion  YearsWithCurrManager  \n",
       "0                  4                        0                     5  \n",
       "1                  7                        1                     7  \n",
       "2                  0                        0                     0  \n",
       "3                  7                        3                     0  \n",
       "4                  2                        2                     2  \n",
       "\n",
       "[5 rows x 35 columns]"
      ]
     },
     "execution_count": 17,
     "metadata": {},
     "output_type": "execute_result"
    }
   ],
   "source": [
    "# Dataset\n",
    "attrition_dataset = pd.read_csv('WA_Fn-UseC_-HR-Employee-Attrition.csv')\n",
    "print(\"Dataset rows and columns:\", attrition_dataset.shape)\n",
    "attrition_dataset.head()"
   ]
  },
  {
   "cell_type": "markdown",
   "id": "5c1dec5e-1cb0-46bc-8531-39d2a9effdb2",
   "metadata": {},
   "source": [
    "# Exploratory Data Analysis\n",
    "35 columns is quite a bit of data so lets spend a few minutes exploring our dataset. \n",
    "\n",
    "The script below finds the percentage of missing values in each column. \n",
    "\n",
    "The output shows that we don’t have missing values in any column."
   ]
  },
  {
   "cell_type": "code",
   "execution_count": 18,
   "id": "6d5b679f-4b97-416e-b6b0-4011d4b45ca5",
   "metadata": {},
   "outputs": [
    {
     "data": {
      "text/plain": [
       "Age                         0\n",
       "Attrition                   0\n",
       "BusinessTravel              0\n",
       "DailyRate                   0\n",
       "Department                  0\n",
       "DistanceFromHome            0\n",
       "Education                   0\n",
       "EducationField              0\n",
       "EmployeeCount               0\n",
       "EmployeeNumber              0\n",
       "EnvironmentSatisfaction     0\n",
       "Gender                      0\n",
       "HourlyRate                  0\n",
       "JobInvolvement              0\n",
       "JobLevel                    0\n",
       "JobRole                     0\n",
       "JobSatisfaction             0\n",
       "MaritalStatus               0\n",
       "MonthlyIncome               0\n",
       "MonthlyRate                 0\n",
       "NumCompaniesWorked          0\n",
       "Over18                      0\n",
       "OverTime                    0\n",
       "PercentSalaryHike           0\n",
       "PerformanceRating           0\n",
       "RelationshipSatisfaction    0\n",
       "StandardHours               0\n",
       "StockOptionLevel            0\n",
       "TotalWorkingYears           0\n",
       "TrainingTimesLastYear       0\n",
       "WorkLifeBalance             0\n",
       "YearsAtCompany              0\n",
       "YearsInCurrentRole          0\n",
       "YearsSinceLastPromotion     0\n",
       "YearsWithCurrManager        0\n",
       "dtype: int64"
      ]
     },
     "execution_count": 18,
     "metadata": {},
     "output_type": "execute_result"
    }
   ],
   "source": [
    "attrition_dataset.isna().sum()"
   ]
  },
  {
   "cell_type": "markdown",
   "id": "1e7a2d05-ced2-40bb-b979-9615cddcc9fb",
   "metadata": {},
   "source": [
    "The Attrition column from the dataset contains “Yes” and “No” values for employee attrition. \n",
    "\n",
    "Let’s plot a pie chart showing the data distribution for the “Attrition” column."
   ]
  },
  {
   "cell_type": "code",
   "execution_count": 19,
   "id": "d89e3c75-f423-496b-83d7-dea77556e759",
   "metadata": {},
   "outputs": [
    {
     "data": {
      "text/plain": [
       "<AxesSubplot:ylabel='Attrition'>"
      ]
     },
     "execution_count": 19,
     "metadata": {},
     "output_type": "execute_result"
    },
    {
     "data": {
      "image/png": "[encoded data removed]",
      "text/plain": [
       "<Figure size 576x432 with 1 Axes>"
      ]
     },
     "metadata": {},
     "output_type": "display_data"
    }
   ],
   "source": [
    "attrition_dataset.Attrition.value_counts().plot(kind='pie', autopct='%1.0f%%', figsize=(8, 6))"
   ]
  },
  {
   "cell_type": "markdown",
   "id": "08fb7a18-9c5c-4b1c-8a05-518356050bcd",
   "metadata": {},
   "source": [
    "From the output below, you can see that the employee attrition rate in our dataset is 16%, which also means that our dataset is highly imbalanced.\n",
    "\n",
    "Let’s see how the employee attrition ratio varies with the marital status of an employee."
   ]
  },
  {
   "cell_type": "code",
   "execution_count": 20,
   "id": "40e1ab03-dbea-4fc5-b59f-2e4233892ea7",
   "metadata": {},
   "outputs": [
    {
     "data": {
      "text/plain": [
       "<AxesSubplot:xlabel='MaritalStatus'>"
      ]
     },
     "execution_count": 20,
     "metadata": {},
     "output_type": "execute_result"
    },
    {
     "data": {
      "image/png": "[encoded data removed]",
      "text/plain": [
       "<Figure size 576x432 with 1 Axes>"
      ]
     },
     "metadata": {
      "needs_background": "light"
     },
     "output_type": "display_data"
    }
   ],
   "source": [
    "attrition_dataset.groupby(['MaritalStatus', 'Attrition']).size().unstack().plot(kind='bar',stacked=True,figsize=(8, 6))"
   ]
  },
  {
   "cell_type": "markdown",
   "id": "305fc0c8-2470-462e-ae32-5c47f9a1a7a7",
   "metadata": {},
   "source": [
    "The following script shows the employee attrition rates among different age groups."
   ]
  },
  {
   "cell_type": "code",
   "execution_count": 21,
   "id": "9d16d48d-cf5b-41e5-a7de-9e45d7329f59",
   "metadata": {},
   "outputs": [
    {
     "data": {
      "text/plain": [
       "<AxesSubplot:xlabel='Age'>"
      ]
     },
     "execution_count": 21,
     "metadata": {},
     "output_type": "execute_result"
    },
    {
     "data": {
      "image/png": "[encoded data removed]",
      "text/plain": [
       "<Figure size 864x576 with 1 Axes>"
      ]
     },
     "metadata": {
      "needs_background": "light"
     },
     "output_type": "display_data"
    }
   ],
   "source": [
    "attrition_dataset.groupby(['Age', 'Attrition']).size().unstack().plot(kind='bar',stacked=True,figsize=(12, 8))"
   ]
  },
  {
   "cell_type": "markdown",
   "id": "4270edad-b96c-485c-a708-3ec046949b52",
   "metadata": {},
   "source": [
    "The output shows that, in our dataset, employee attrition rates are higher among employees aged less than 35. The attrition rates are zero among the employees aged 57, 59 and 60."
   ]
  },
  {
   "cell_type": "markdown",
   "id": "f92b5bf2-eb14-4f86-80d1-e651a499f8a6",
   "metadata": {},
   "source": [
    "# Data Preprocessing\n",
    "Before you can train a machine learning model on a dataset, you need to do some preprocessing. \n",
    "\n",
    "The first step is to divide the dataset into a features and a labels set. \n",
    "\n",
    "In our dataset the Attrition column contains labels, while the feature set consists of the rest of the columns. \n",
    "\n",
    "The following script divides the dataset into features and labels sets."
   ]
  },
  {
   "cell_type": "code",
   "execution_count": null,
   "id": "123b07f6-3681-4281-9738-6d07256c5592",
   "metadata": {},
   "outputs": [],
   "source": [
    "feature_set =  attrition_dataset.drop(['Attrition'], axis=1)\n",
    "labels = attrition_dataset.filter(['Attrition'], axis=1)"
   ]
  },
  {
   "cell_type": "markdown",
   "id": "485863ac-4f6e-4361-a6e2-558b4a54c5ff",
   "metadata": {},
   "source": [
    "Machine learning algorithms work with numbers, but our feature set contains some non-numeric columns, as you can see from the output of the following script."
   ]
  },
  {
   "cell_type": "code",
   "execution_count": null,
   "id": "735e59fd-66ea-4a90-8062-f5bcdb1269bf",
   "metadata": {},
   "outputs": [],
   "source": [
    "feature_set.dtypes"
   ]
  },
  {
   "cell_type": "markdown",
   "id": "9a84dc82-a8c5-48ef-92c2-f75ac020457c",
   "metadata": {},
   "source": [
    "We need to convert the non-numeric columns in our dataset to numeric columns.\n",
    "\n",
    "The following script separates categorical features from numeric features in our dataset."
   ]
  },
  {
   "cell_type": "code",
   "execution_count": null,
   "id": "43bb63f2-2694-4b2d-bc0e-bfbbc61eeb48",
   "metadata": {},
   "outputs": [],
   "source": [
    "cat_col_names = ['BusinessTravel',\n",
    "                       'Department',\n",
    "                       'EducationField',\n",
    "                       'Gender',\n",
    "                       'JobRole',\n",
    "                       'MaritalStatus',\n",
    "                       'Over18',\n",
    "                       'OverTime'\n",
    "                      ]\n",
    "\n",
    "num_cols = feature_set.drop(cat_col_names, axis=1)\n",
    "cat_columns = feature_set.filter(cat_col_names, axis = 1)"
   ]
  },
  {
   "cell_type": "markdown",
   "id": "9cec5c92-45a4-4e61-a2b2-5a397c0a6e4d",
   "metadata": {},
   "source": [
    "You can use the [one-hot encoding](https://en.wikipedia.org/wiki/One-hot) approach to convert categorical features to numeric features. \n",
    "\n",
    "The following script uses the Pandas get_dummies() method to convert categorical features in our dataset to one-hot encoded numeric features. \n",
    "\n",
    "The output shows the total number of one-hot encoded columns."
   ]
  },
  {
   "cell_type": "code",
   "execution_count": 22,
   "id": "a247e88f-a727-4920-ae39-41a36de0db2b",
   "metadata": {},
   "outputs": [
    {
     "data": {
      "text/plain": [
       "(1470, 21)"
      ]
     },
     "execution_count": 22,
     "metadata": {},
     "output_type": "execute_result"
    }
   ],
   "source": [
    "cat_columns_one_hot = pd.get_dummies(cat_columns, drop_first=True)\n",
    "cat_columns_one_hot.shape"
   ]
  },
  {
   "cell_type": "markdown",
   "id": "7f1de15c-2d88-493b-abb0-d3f32dc82751",
   "metadata": {},
   "source": [
    "Finally, you can concatenate the default numeric features with the one-hot encoded numeric features to form the final feature set."
   ]
  },
  {
   "cell_type": "code",
   "execution_count": 23,
   "id": "4fd84edf-70a0-493f-9c8c-de0a7217b3ca",
   "metadata": {},
   "outputs": [
    {
     "data": {
      "text/plain": [
       "(1470, 47)"
      ]
     },
     "execution_count": 23,
     "metadata": {},
     "output_type": "execute_result"
    }
   ],
   "source": [
    "X = pd.concat([num_cols,cat_columns_one_hot], axis=1)\n",
    "X.shape"
   ]
  },
  {
   "cell_type": "markdown",
   "id": "8da99076-8d56-4eb0-81e0-9162864a4214",
   "metadata": {},
   "source": [
    "Similarly, we can convert the simple “Yes” and “No” values from our labels set to binary 1 and 0 values, respectively, using the following script:"
   ]
  },
  {
   "cell_type": "code",
   "execution_count": 24,
   "id": "8d65fe43-91ae-42f0-9226-63a03ad3d0f0",
   "metadata": {},
   "outputs": [
    {
     "data": {
      "text/plain": [
       "0    1\n",
       "1    0\n",
       "2    1\n",
       "3    0\n",
       "4    0\n",
       "Name: Attrition, dtype: int64"
      ]
     },
     "execution_count": 24,
     "metadata": {},
     "output_type": "execute_result"
    }
   ],
   "source": [
    "y =  labels['Attrition'].map({'Yes': 1, 'No': 0})\n",
    "y.head()"
   ]
  },
  {
   "cell_type": "markdown",
   "id": "22eee2b1-73b8-41ef-9b2b-e61277081045",
   "metadata": {},
   "source": [
    "# Model Training and Predictions\n",
    "We’ll divide our data into training and test sets. \n",
    "\n",
    "The model will be trained using the training set while the performance of the trained model will be evaluated on the test set. \n",
    "\n",
    "The following script divides the data into 80% training and 20% test sets."
   ]
  },
  {
   "cell_type": "code",
   "execution_count": null,
   "id": "ba45dbf2-6ed6-4b75-b99e-e60b4b7debed",
   "metadata": {},
   "outputs": [],
   "source": [
    "from sklearn.model_selection import train_test_split\n",
    "\n",
    "X_train, X_test, y_train, y_test = train_test_split(X, y, test_size = 0.20, random_state = 42)"
   ]
  },
  {
   "cell_type": "markdown",
   "id": "50c74b69-207f-4e0e-b0ae-5cecf4ede845",
   "metadata": {},
   "source": [
    "Our machine learning model will be trained using the Random Forest Classifier. \n",
    "\n",
    "To do so, we will use the RandomForestClassifier class from the scikit-kearn library.\n",
    "\n",
    "The following script trains the model using the **fit()** method on the training set and it then makes predictions on the test set using the **predict()** method."
   ]
  },
  {
   "cell_type": "code",
   "execution_count": 25,
   "id": "8f241626-25c5-41d3-9028-af436b4d3264",
   "metadata": {},
   "outputs": [],
   "source": [
    "from sklearn.ensemble import RandomForestClassifier\n",
    "\n",
    "rf_clf = RandomForestClassifier(n_estimators = 40, random_state = 42)\n",
    "rf_clf.fit(X_train, y_train)\n",
    "pred = rf_clf.predict(X_test)"
   ]
  },
  {
   "cell_type": "markdown",
   "id": "387f908a-d633-4f61-bfa6-2c193b71baac",
   "metadata": {},
   "source": [
    "Ready to evaluate the performance of our trained model on the test set. \n",
    "\n",
    "The output shows that the model achieves an accuracy of 87.07% on the test set."
   ]
  },
  {
   "cell_type": "code",
   "execution_count": 26,
   "id": "9410a408-a34e-4790-b4b8-542476b57ff7",
   "metadata": {},
   "outputs": [
    {
     "name": "stdout",
     "output_type": "stream",
     "text": [
      "              precision    recall  f1-score   support\n",
      "\n",
      "           0       0.88      0.99      0.93       255\n",
      "           1       0.57      0.10      0.17        39\n",
      "\n",
      "    accuracy                           0.87       294\n",
      "   macro avg       0.72      0.55      0.55       294\n",
      "weighted avg       0.84      0.87      0.83       294\n",
      "\n",
      "0.8707482993197279\n"
     ]
    }
   ],
   "source": [
    "from sklearn.metrics import classification_report, accuracy_score\n",
    "\n",
    "print(classification_report(y_test,pred ))\n",
    "print(accuracy_score(y_test, pred ))"
   ]
  },
  {
   "cell_type": "markdown",
   "id": "09c451ae-cd96-478c-96e6-baae4c0e6d76",
   "metadata": {},
   "source": [
    "As a last step, we want to see what the most important features an organizations must consider to avoid employee attrition. \n",
    "\n",
    "To do so, you can use the **feature_importances_** attribute from the trained random forest classifier."
   ]
  },
  {
   "cell_type": "code",
   "execution_count": 27,
   "id": "b826adbc-2f20-4f6b-949f-1b6e7fd7d7a6",
   "metadata": {},
   "outputs": [
    {
     "data": {
      "text/plain": [
       "<AxesSubplot:>"
      ]
     },
     "execution_count": 27,
     "metadata": {},
     "output_type": "execute_result"
    },
    {
     "data": {
      "image/png": "[encoded data removed]",
      "text/plain": [
       "<Figure size 432x288 with 1 Axes>"
      ]
     },
     "metadata": {
      "needs_background": "light"
     },
     "output_type": "display_data"
    }
   ],
   "source": [
    "important_features = pd.Series(rf_clf.feature_importances_, index=X.columns)\n",
    "important_features.nlargest(10).plot(kind='barh')"
   ]
  },
  {
   "cell_type": "markdown",
   "id": "862f85da-0fde-4888-a3dd-cdbbad0b0560",
   "metadata": {},
   "source": [
    "The above output shows that monthly income and overtime are the most important reasons behind employee attrition."
   ]
  },
  {
   "cell_type": "code",
   "execution_count": null,
   "id": "ea254bb1-f58a-4b2e-9022-3a9cda568dc3",
   "metadata": {},
   "outputs": [],
   "source": []
  }
 ],
 "metadata": {
  "kernelspec": {
   "display_name": "Python 3 (ipykernel)",
   "language": "python",
   "name": "python3"
  },
  "language_info": {
   "codemirror_mode": {
    "name": "ipython",
    "version": 3
   },
   "file_extension": ".py",
   "mimetype": "text/x-python",
   "name": "python",
   "nbconvert_exporter": "python",
   "pygments_lexer": "ipython3",
   "version": "3.10.2"
  }
 },
 "nbformat": 4,
 "nbformat_minor": 5
}
