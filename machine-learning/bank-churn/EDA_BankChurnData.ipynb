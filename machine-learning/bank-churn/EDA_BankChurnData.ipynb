{
 "cells": [
  {
   "cell_type": "markdown",
   "metadata": {},
   "source": [
    "# Bank Churn Data Set"
   ]
  },
  {
   "cell_type": "code",
   "execution_count": null,
   "metadata": {},
   "outputs": [],
   "source": [
    "import pandas as pd\n",
    "import numpy as np\n",
    "import matplotlib.pyplot as plt\n",
    "import seaborn as sns"
   ]
  },
  {
   "cell_type": "code",
   "execution_count": null,
   "metadata": {},
   "outputs": [],
   "source": [
    "##The data set of an international bank was obtained from Kaggle  \n",
    "##https://www.kaggle.com/nasirislamsujan/bank-customer-churn-prediction\n",
    "file='./Churn_Modelling.csv'\n",
    "df=pd.read_csv(file)"
   ]
  },
  {
   "cell_type": "code",
   "execution_count": null,
   "metadata": {},
   "outputs": [],
   "source": [
    "#Information about the data set\n",
    "df.info()"
   ]
  },
  {
   "cell_type": "code",
   "execution_count": null,
   "metadata": {
    "tags": []
   },
   "outputs": [],
   "source": [
    "##First five rows and all columns\n",
    "df.head()"
   ]
  },
  {
   "cell_type": "code",
   "execution_count": null,
   "metadata": {},
   "outputs": [],
   "source": [
    "##Dropping RowNumber, CustomerId, and Surname columns. \n",
    "df.drop([\"RowNumber\", \"CustomerId\", \"Surname\"], axis=1, inplace=True)\n",
    "df.describe()"
   ]
  },
  {
   "cell_type": "code",
   "execution_count": null,
   "metadata": {},
   "outputs": [],
   "source": [
    "#Chechking NA values\n",
    "df.isna().sum()"
   ]
  },
  {
   "cell_type": "code",
   "execution_count": null,
   "metadata": {},
   "outputs": [],
   "source": [
    "##Changing the name of Exited column as Churn \n",
    "df.loc[(df['Exited'] == 0), 'Churn'] = 'Non-Churn'\n",
    "df.loc[(df['Exited'] == 1), 'Churn'] = 'Churn'\n",
    "df.head()"
   ]
  },
  {
   "cell_type": "code",
   "execution_count": null,
   "metadata": {},
   "outputs": [],
   "source": [
    "##Grouping ages to investigate age group effect on the churn decision \n",
    "## Student: under Age 25, Employee: Age 25- 64, Retired: Age 65 and older\n",
    "df.loc[(df['Age'] < 25), 'AgeGroup'] = 'Under age 25'\n",
    "df.loc[(df['Age'] >= 25) & (df['Age']<= 64), 'AgeGroup'] = 'Age 25-64'\n",
    "df.loc[(df['Age'] >= 65), 'AgeGroup'] = 'Age 65 and older'\n",
    "df.head()"
   ]
  },
  {
   "cell_type": "code",
   "execution_count": null,
   "metadata": {},
   "outputs": [],
   "source": [
    "freq=pd.crosstab(df.Geography, df.Churn)\n",
    "freq['Churn'].plot(kind='pie', autopct='%1.1f%%')"
   ]
  },
  {
   "cell_type": "code",
   "execution_count": null,
   "metadata": {},
   "outputs": [],
   "source": [
    "mask=(df.Churn=='Churn')\n",
    "freq=pd.crosstab(df[mask].Geography, df[mask].NumOfProducts)\n",
    "sns.heatmap(freq, cmap=\"YlGnBu\", annot=True, cbar=True, fmt='d')\n",
    "plt.title('Churned Customers',fontsize = 12, weight='bold')\n",
    "plt.ylabel(\"\")"
   ]
  },
  {
   "cell_type": "code",
   "execution_count": null,
   "metadata": {},
   "outputs": [],
   "source": [
    "freq=pd.crosstab(df.Gender, df.Churn)\n",
    "freq['Churn'].plot(kind='pie', autopct='%1.1f%%')"
   ]
  },
  {
   "cell_type": "code",
   "execution_count": null,
   "metadata": {},
   "outputs": [],
   "source": [
    "mask=(df.Churn=='Churn')\n",
    "freq=pd.crosstab(df[mask].Geography, df[mask].Gender)\n",
    "freq.plot(kind='bar')"
   ]
  },
  {
   "cell_type": "code",
   "execution_count": null,
   "metadata": {},
   "outputs": [],
   "source": [
    "sns.heatmap(pd.crosstab(df.Tenure, df.Churn), cmap=\"YlGnBu\", annot=True, cbar=True, fmt='d')"
   ]
  },
  {
   "cell_type": "code",
   "execution_count": null,
   "metadata": {},
   "outputs": [],
   "source": [
    "sns.heatmap(pd.crosstab(df.NumOfProducts, df.Churn), cmap=\"YlGnBu\", annot=True, cbar=True, fmt='g')"
   ]
  },
  {
   "cell_type": "code",
   "execution_count": null,
   "metadata": {},
   "outputs": [],
   "source": [
    "freq=pd.crosstab(df.HasCrCard, df.Churn)\n",
    "freq.plot(kind='bar')"
   ]
  },
  {
   "cell_type": "code",
   "execution_count": null,
   "metadata": {},
   "outputs": [],
   "source": [
    "freq=pd.crosstab(df.IsActiveMember, df.Churn)\n",
    "freq.plot(kind='bar')"
   ]
  },
  {
   "cell_type": "code",
   "execution_count": null,
   "metadata": {},
   "outputs": [],
   "source": [
    "mask=(df.Churn=='Churn')\n",
    "sns.violinplot(x=\"Tenure\", y=\"CreditScore\", data=df[mask])"
   ]
  },
  {
   "cell_type": "code",
   "execution_count": null,
   "metadata": {},
   "outputs": [],
   "source": [
    "plt.figure(figsize=[8,10])\n",
    "plt.subplot(3,1,1)\n",
    "mask1=(df.Geography=='Germany')\n",
    "sns.swarmplot(x=\"AgeGroup\", y=\"CreditScore\", hue=\"Churn\", data=df[mask1], size=6, palette=\"Set2\", dodge=True, \n",
    "              order=[\"Under age 25\", \"Age 25-64\", \"Age 65 and older\"])\n",
    "plt.xlabel(\"\")\n",
    "plt.ylabel('Credit Scores',fontsize = 11, style='italic', weight='bold')\n",
    "plt.title('GERMANY',fontsize = 12, weight='bold')\n",
    "plt.legend(['Non-Churn', 'Churn'], ncol=2, loc='lower right')\n",
    "plt.xticks(size = 1)\n",
    "plt.yticks(size = 1)\n",
    "\n",
    "plt.subplot(3,1,2)\n",
    "mask2=(df.Geography=='France')\n",
    "sns.swarmplot(x=\"AgeGroup\", y=\"CreditScore\", hue=\"Churn\", data=df[mask2], size=6, palette=\"Set2\", dodge=True,\n",
    "             order=[\"Under age 25\", \"Age 25-64\", \"Age 65 and older\"])\n",
    "plt.xlabel(\"\")\n",
    "plt.ylabel('Credit Scores',fontsize = 11, style='italic', weight='bold')\n",
    "plt.title('FRANCE',fontsize = 12, weight='bold')\n",
    "plt.legend(['Non-Churn', 'Churn'], ncol=2, loc='lower right')\n",
    "plt.xticks(size = 1)\n",
    "plt.yticks(size = 1)\n",
    "\n",
    "plt.subplot(3,1,3)\n",
    "mask3=(df.Geography=='Spain')\n",
    "sns.swarmplot(x=\"AgeGroup\", y=\"CreditScore\", hue=\"Churn\", data=df[mask3], size=6, palette=\"Set2\", dodge=True,\n",
    "              order=[\"Under age 25\", \"Age 25-64\", \"Age 65 and older\"])\n",
    "plt.ylabel('Credit Scores',fontsize = 11, style='italic', weight='bold')\n",
    "plt.title('SPAIN',fontsize = 12, weight='bold')\n",
    "plt.legend(['Non-Churn', 'Churn'], ncol=2, loc='lower right')\n",
    "plt.xticks(size = 1)\n",
    "plt.yticks(size = 1);\n",
    "plt.plot()"
   ]
  },
  {
   "cell_type": "code",
   "execution_count": null,
   "metadata": {},
   "outputs": [],
   "source": [
    "plt.figure(figsize=[8,10])\n",
    "plt.subplot(3,1,1)\n",
    "mask1=(df.Geography=='Germany')\n",
    "sns.swarmplot(x=\"AgeGroup\", y=\"Balance\", hue=\"Churn\", data=df[mask1], size=6, dodge=True,\n",
    "             order=[\"Under age 25\", \"Age 25-64\", \"Age 65 and older\"])\n",
    "plt.xlabel(\"\")\n",
    "plt.ylabel('Balance',fontsize = 11, style='italic', weight='bold')\n",
    "plt.title('GERMANY',fontsize = 12, weight='bold')\n",
    "plt.legend(['Non-Churn', 'Churn'], ncol=2, loc='upper right')\n",
    "plt.xticks(size = 1)\n",
    "plt.yticks(size = 1)\n",
    "\n",
    "plt.subplot(3,1,2)\n",
    "mask2=(df.Geography=='France')\n",
    "sns.swarmplot(x=\"AgeGroup\", y=\"Balance\", hue=\"Churn\", data=df[mask2], size=6, dodge=True,\n",
    "             order=[\"Under age 25\", \"Age 25-64\", \"Age 65 and older\"])\n",
    "plt.xlabel(\"\")\n",
    "plt.ylabel('Balance',fontsize = 11, style='italic', weight='bold')\n",
    "plt.title('FRANCE',fontsize = 12, weight='bold')\n",
    "plt.legend(['Non-Churn', 'Churn'], ncol=2, loc='upper right')\n",
    "plt.xticks(size = 1)\n",
    "plt.yticks(size = 1)\n",
    "\n",
    "plt.subplot(3,1,3)\n",
    "mask3=(df.Geography=='Spain')\n",
    "sns.swarmplot(x=\"AgeGroup\", y=\"Balance\", hue=\"Churn\", data=df[mask3], size=6, dodge=True,\n",
    "             order=[\"Under age 25\", \"Age 25-64\", \"Age 65 and older\"])\n",
    "plt.xlabel(\"\")\n",
    "plt.ylabel('Balance',fontsize = 11, style='italic', weight='bold')\n",
    "plt.title('SPAIN',fontsize = 12, weight='bold')\n",
    "plt.legend(['Non-Churn', 'Churn'], ncol=2, loc='upper right')\n",
    "plt.xticks(size = 1)\n",
    "plt.yticks(size = 1)\n",
    "plt.plot();"
   ]
  },
  {
   "cell_type": "code",
   "execution_count": null,
   "metadata": {},
   "outputs": [],
   "source": [
    "plt.figure(figsize=[10,4])\n",
    "mask=(df.HasCrCard==0) & (df.IsActiveMember==0)\n",
    "sns.violinplot(x=\"NumOfProducts\", y=\"Age\", hue=\"Churn\", data=df[mask], palette=\"Blues\")\n",
    "plt.xlabel(\"NumOfProducts\")\n",
    "plt.ylabel(\"Age\")\n",
    "plt.title('HasCreditCard=0 | IsActiveMember=0',fontsize = 12)\n",
    "plt.xticks(size = 10)\n",
    "plt.yticks(size = 10);"
   ]
  },
  {
   "cell_type": "code",
   "execution_count": null,
   "metadata": {},
   "outputs": [],
   "source": [
    "plt.figure(figsize=[10,4])\n",
    "mask=(df.HasCrCard==1) & (df.IsActiveMember==1)\n",
    "sns.violinplot(x=\"NumOfProducts\", y=\"Age\", hue=\"Churn\", data=df[mask], palette=\"Greens\")\n",
    "plt.xlabel(\"NumOfProducts\")\n",
    "plt.ylabel(\"Age\")\n",
    "plt.title('HasCreditCard=1 | IsActiveMember=1',fontsize = 12)\n",
    "plt.xticks(size = 10)\n",
    "plt.yticks(size = 10);"
   ]
  },
  {
   "cell_type": "code",
   "execution_count": null,
   "metadata": {},
   "outputs": [],
   "source": []
  }
 ],
 "metadata": {
  "kernelspec": {
   "display_name": "Python 3 (ipykernel)",
   "language": "python",
   "name": "python3"
  },
  "language_info": {
   "codemirror_mode": {
    "name": "ipython",
    "version": 3
   },
   "file_extension": ".py",
   "mimetype": "text/x-python",
   "name": "python",
   "nbconvert_exporter": "python",
   "pygments_lexer": "ipython3",
   "version": "3.10.2"
  }
 },
 "nbformat": 4,
 "nbformat_minor": 4
}
